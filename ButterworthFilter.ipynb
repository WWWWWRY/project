{
 "cells": [
  {
   "cell_type": "markdown",
   "id": "a635981a",
   "metadata": {},
   "source": [
    "# Design and test a Butterworth lowpass filter\n",
    "\n",
    "This document describes how to design a Butterworth lowpass filter with a cutoff frequency $\\omega_c$ and compute the discrete coefficients so that it can be implemented on hardware."
   ]
  },
  {
   "cell_type": "code",
   "execution_count": 31,
   "id": "32935ff4",
   "metadata": {},
   "outputs": [],
   "source": [
    "# Packages and adjustments to the figures\n",
    "from scipy import signal\n",
    "import matplotlib.pyplot as plt\n",
    "import numpy as np\n",
    "import math\n",
    "plt.rcParams[\"figure.figsize\"] = 10,5\n",
    "plt.rcParams[\"font.size\"] = 16\n",
    "plt.rcParams.update({\"text.usetex\": True,\"font.family\": \"sans-serif\",\"font.sans-serif\": [\"Helvetica\"]})"
   ]
  },
  {
   "cell_type": "markdown",
   "id": "9635a2f3",
   "metadata": {},
   "source": [
    "## 1. Generate a test signal\n",
    " \n",
    "* A simple test signal $\\boldsymbol{y} = \\{ y_i \\}$ is generated with a fixed sampling frequency using the function:\n",
    "\n",
    "$$y(t) = m_0 \\sin(2\\pi f_0 t) + m_1 \\sin(2\\pi f_1 t)$$\n",
    "\n",
    "* The power spectrum is plotted as the magnitude of the discrete fourier transform (DFT): $|\\hat{\\boldsymbol{y}}|$"
   ]
  },
  {
   "cell_type": "code",
   "execution_count": 32,
   "id": "64201846",
   "metadata": {},
   "outputs": [],
   "source": [
    "# Generate a signal\n",
    "samplingFreq = 200; # sampled at 1 kHz = 1000 samples / second\n",
    "tlims = [0,1]        # in seconds\n",
    "signalFreq = [2,50]; # Cycles / second\n",
    "signalMag = [1,0.2]; # magnitude of each sine\n",
    "t = np.linspace(tlims[0],tlims[1],(tlims[1]-tlims[0])*samplingFreq)\n",
    "y = signalMag[0]*np.sin(2*math.pi*signalFreq[0]*t) + signalMag[1]*np.sin(2*math.pi*signalFreq[1]*t)\n",
    "\n",
    "# Compute the Fourier transform\n",
    "yhat = np.fft.fft(y);\n",
    "fcycles = np.fft.fftfreq(len(t),d=1.0/samplingFreq); # the frequencies in cycles/s\n"
   ]
  },
  {
   "cell_type": "markdown",
   "id": "3cacf026",
   "metadata": {},
   "source": [
    "## 2. Butterworth low-pass filter transfer function\n",
    "\n",
    "This document does not derive the formula for a Butterworth filter. Instead, it uses the standard form with DC gain $G=1$.\n",
    "\n",
    "* A cutoff frequency $\\omega_c$ is selected\n",
    "* The Butterworth low-pass filter transfer function with $\\omega_c = 1$ can be written as (see https://en.wikipedia.org/wiki/Butterworth_filter)\n",
    "$$H(s) = \\frac{1}{\\sum_0^{n} a_k s^k}$$\n",
    "where $n$ is the order of the filter. The coefficients are given by the recursion formula:\n",
    "$$a_{k+1} = \\frac{\\cos( k \\gamma )}{\\sin((k+1)\\gamma)} a_k$$\n",
    "with $a_0 = 1$ and $\\gamma = \\frac{\\pi}{2n}$.\n",
    "\n",
    "* Because the Butterworth polynomial is \n",
    "$$B_n(s) = \\sum_{k=0}^n a_k s^k$$\n",
    "and we want to set a new cutoff frequency of $\\omega_c$, substitute\n",
    "$$B_n = \\sum_{k=0}^n a_k \\left(\\frac{s}{\\omega_c}\\right)^k = \\sum_{k=0}^n \\frac{a_k}{{\\omega_c}^k} s^k$$\n",
    "for convenience set \n",
    "$$B_n(s) = \\sum_{k=0}^n c_k s^k$$ \n",
    "with $c_k = \\frac{a_k}{{\\omega_c}^k}$\n",
    "    "
   ]
  },
  {
   "cell_type": "code",
   "execution_count": 33,
   "id": "cf8107a6",
   "metadata": {},
   "outputs": [
    {
     "name": "stdout",
     "output_type": "stream",
     "text": [
      "Butterworth polynomial coefficients a_i:                [1.         1.41421356 1.        ]\n",
      "Butterworth coefficients with frequency adjustment c_i: [0.00101321 0.04501582 1.        ]\n"
     ]
    }
   ],
   "source": [
    "# Butterworth filter\n",
    "wc = 2*np.pi*5; # cutoff frequency (rad/s)\n",
    "n = 2; # Filter order\n",
    "\n",
    "# Compute the Butterworth filter coefficents\n",
    "a = np.zeros(n+1);\n",
    "gamma = np.pi/(2.0*n);\n",
    "a[0] = 1; # first coef is always 1\n",
    "for k in range(0,n):\n",
    "    rfac = np.cos(k*gamma)/np.sin((k+1)*gamma);\n",
    "    a[k+1] = rfac*a[k]; # Other coefficients by recursion\n",
    "\n",
    "print(\"Butterworth polynomial coefficients a_i:                \" + str(a))\n",
    "\n",
    "# Adjust the cutoff frequency\n",
    "c = np.zeros(n+1);\n",
    "for k in range(0,n+1):\n",
    "    c[n-k] = a[k]/pow(wc,k)\n",
    "\n",
    "print(\"Butterworth coefficients with frequency adjustment c_i: \" + str(c))"
   ]
  },
  {
   "cell_type": "code",
   "execution_count": 34,
   "id": "1aed7a71",
   "metadata": {},
   "outputs": [],
   "source": [
    "# Low-pass filter\n",
    "w0 = 2*np.pi*5; # pole frequency (rad/s)\n",
    "num = [1];      # transfer function numerator coefficients\n",
    "den = c;        # transfer function denominator coefficients\n",
    "lowPass = signal.TransferFunction(num,den) # Transfer function\n",
    "\n",
    "# Generate the bode plot\n",
    "w = np.logspace( np.log10(min(signalFreq)*2*np.pi/10), np.log10(max(signalFreq)*2*np.pi*10), 500 )\n",
    "w, mag, phase = signal.bode(lowPass,w)\n"
   ]
  },
  {
   "cell_type": "markdown",
   "id": "622ee694",
   "metadata": {},
   "source": [
    "## 3. Discrete transfer function\n",
    "\n",
    "To implement the low-pass filter on hardware, you need to compute the discrete transfer function using the signal's sampling frequency.\n",
    "* The time step is $\\Delta t = 1/f_s$\n",
    "* Compute the discrete transfer function using Tustin's method by setting $s = \\frac{2}{\\Delta t} \\left( \\frac{1-z^{-1}}{1+z^{-1}} \\right)$\n",
    "* Why do it yourself? The <code>to_discrete</code> method computes the bilinear transform (Tustin's method when $\\alpha = 1/2$)"
   ]
  },
  {
   "cell_type": "code",
   "execution_count": 35,
   "id": "48db5c86",
   "metadata": {},
   "outputs": [
    {
     "name": "stdout",
     "output_type": "stream",
     "text": [
      "TransferFunctionDiscrete(\n",
      "array([0.00552119, 0.01104239, 0.00552119]),\n",
      "array([ 1.        , -1.77908235,  0.80116713]),\n",
      "dt: 0.005\n",
      ")\n"
     ]
    }
   ],
   "source": [
    "# Compute the discrete low pass with delta_t = 1/samplingFrequency\n",
    "dt = 1.0/samplingFreq;\n",
    "discreteLowPass = lowPass.to_discrete(dt,method='gbt',alpha=0.5)\n",
    "print(discreteLowPass)"
   ]
  },
  {
   "cell_type": "markdown",
   "id": "59e5c165",
   "metadata": {},
   "source": [
    "## 4. Filter coefficients\n",
    "\n",
    "We want to find the filter coefficients for the discrete update:\n",
    "$$y[n] = a_1 y[n-1] + a_2 y[n-2] + ... + b_0 x[n] + b_1 x[n-1] + ...$$\n",
    "\n",
    "The coefficients can be taken directly from the discrete transfer function of the filter in the form:\n",
    "$$H(z) = \\frac{b_0 + b_1 z^{-1} + b_2 z^{-2} + \\ldots}{1 - a_1 z^{-1} - a_2 z^{-2} + \\ldots}$$\n",
    "\n",
    "(This is a result of taking the Z-transform which is not shown here)\n",
    "\n",
    "Compare this to a transfer function with coefficients\n",
    "<code>\n",
    "num = [b_0, b_1, b_2]\n",
    "den = [1, a_1, a_2]\n",
    "</code>\n",
    "is \n",
    "$$H(z) = \\frac{b_0 z^2 + b_1 z + b_2}{z^2 + a_1 z + a_2}$$\n",
    "which is equivalent to\n",
    "$$H(z) = \\frac{b_0 + b_1 z^{-1} + b_2 z^{-2}}{1 + a_1 z^{-1} + a_2 z^{-2}}$$\n",
    "So you can take the coefficients in the same order that they are defined in the numerator and denominator of the transfer function object. The only difference is that the **coefficients in the denominator need a negative sign**.\n",
    "\n",
    "* To filter the signal, apply the filter using the discrete update\n",
    "* The filtered signal and filtered signal power spectrum are plotted alongside the unfiltered signal"
   ]
  },
  {
   "cell_type": "code",
   "execution_count": 36,
   "id": "caeab8c4",
   "metadata": {
    "scrolled": true
   },
   "outputs": [
    {
     "name": "stdout",
     "output_type": "stream",
     "text": [
      "Filter coefficients b_i: [0.00552119 0.01104239 0.00552119]\n",
      "Filter coefficients a_i: [ 1.77908235 -0.80116713]\n"
     ]
    }
   ],
   "source": [
    "# The coefficients from the discrete form of the filter transfer function (but with a negative sign)\n",
    "b = discreteLowPass.num;\n",
    "a = -discreteLowPass.den;\n",
    "print(\"Filter coefficients b_i: \" + str(b))\n",
    "print(\"Filter coefficients a_i: \" + str(a[1:]))\n",
    "\n",
    "# Filter the signal\n",
    "Nb = len(b)\n",
    "yfilt = np.zeros(len(y));\n",
    "for m in range(3,len(y)):\n",
    "    yfilt[m] = b[0]*y[m];\n",
    "    for i in range(1,Nb):\n",
    "        yfilt[m] += a[i]*yfilt[m-i] + b[i]*y[m-i];\n",
    "\n"
   ]
  },
  {
   "cell_type": "code",
   "execution_count": null,
   "id": "16acb590-ddd1-42aa-a8f8-c9e1e20823d1",
   "metadata": {},
   "outputs": [],
   "source": []
  }
 ],
 "metadata": {
  "kernelspec": {
   "display_name": "Python 3 (ipykernel)",
   "language": "python",
   "name": "python3"
  },
  "language_info": {
   "codemirror_mode": {
    "name": "ipython",
    "version": 3
   },
   "file_extension": ".py",
   "mimetype": "text/x-python",
   "name": "python",
   "nbconvert_exporter": "python",
   "pygments_lexer": "ipython3",
   "version": "3.8.6rc1"
  }
 },
 "nbformat": 4,
 "nbformat_minor": 5
}
